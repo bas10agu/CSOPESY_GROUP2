{
  "nbformat": 4,
  "nbformat_minor": 0,
  "metadata": {
    "colab": {
      "provenance": [],
      "gpuType": "T4",
      "include_colab_link": true
    },
    "kernelspec": {
      "name": "python3",
      "display_name": "Python 3"
    },
    "language_info": {
      "name": "python"
    },
    "accelerator": "GPU"
  },
  "cells": [
    {
      "cell_type": "markdown",
      "metadata": {
        "id": "view-in-github",
        "colab_type": "text"
      },
      "source": [
        "<a href=\"https://colab.research.google.com/github/bas10agu/CSOPESY_GROUP2/blob/main/DeepDive_CUDA_notebook.ipynb\" target=\"_parent\"><img src=\"https://colab.research.google.com/assets/colab-badge.svg\" alt=\"Open In Colab\"/></a>"
      ]
    },
    {
      "cell_type": "markdown",
      "source": [
        "# **Group 2 - DeepDive CUDA - Histogram counting (Atomic operations)**\n",
        "## **GROUP 2 - S11**\n",
        "\n",
        "**MEMBERS:**\n",
        "\n",
        "- Alfred Bastin S. Agustines\n",
        "- Allan David C. De Leon\n",
        "- Michael Angelo Depasucat\n",
        "- Kai Hiori J. Padilla\n"
      ],
      "metadata": {
        "id": "T-4fVR3o7XtN"
      }
    },
    {
      "cell_type": "markdown",
      "source": [
        "# (1) C Histogram program"
      ],
      "metadata": {
        "id": "IjZCFzFB8mUZ"
      }
    },
    {
      "cell_type": "code",
      "execution_count": null,
      "metadata": {
        "id": "X7_eZc8b4lH1",
        "outputId": "8c540f03-a55f-4ace-f1a2-dce4a833d223",
        "colab": {
          "base_uri": "https://localhost:8080/"
        }
      },
      "outputs": [
        {
          "output_type": "stream",
          "name": "stdout",
          "text": [
            "Overwriting C_histo.c\n"
          ]
        }
      ],
      "source": [
        "%%writefile C_histo.c\n",
        "#include <stdio.h>\n",
        "#include <stdlib.h>\n",
        "#include <stdatomic.h>\n",
        "#include <time.h>\n",
        "#include <stdint.h>\n",
        "\n",
        "#define NUM_BINS 10\n",
        "\n",
        "void getHistogram(int* vector, int vectorSize, atomic_int* histogram) {\n",
        "    for (int i = 0; i < vectorSize; i++) {\n",
        "        int bIndex = vector[i] % NUM_BINS;\n",
        "        atomic_fetch_add(&histogram[bIndex], 1);\n",
        "    }\n",
        "}\n",
        "\n",
        "int main() {\n",
        "    const size_t ARRAY_SIZE = 1<<24;\n",
        "    const size_t ARRAY_BYTES = ARRAY_SIZE * sizeof(double);\n",
        "\n",
        "    int32_t *vector;\n",
        "    vector = (int32_t*)malloc(ARRAY_BYTES);\n",
        "    int histogram[NUM_BINS] = { 0 };\n",
        "    const size_t loope = 100;\n",
        "\n",
        "    for (int i = 0; i < ARRAY_SIZE; i++) {\n",
        "        vector[i] = i;\n",
        "    }\n",
        "\n",
        "    clock_t start, end;\n",
        "    getHistogram(vector, ARRAY_SIZE, histogram);\n",
        "\n",
        "\n",
        "    for (int i = 0; i < 10; i++) {\n",
        "        histogram[i] = 0;\n",
        "    }\n",
        "\n",
        "    double elapse, time_taken;\n",
        "    elapse = 0.0f;\n",
        "    for (int i = 0; i < loope; i++) {\n",
        "        for (int i = 0; i < 10; i++) {\n",
        "            histogram[i] = 0;\n",
        "        }\n",
        "        start = clock();\n",
        "        getHistogram(vector, ARRAY_SIZE, histogram);\n",
        "        end = clock();\n",
        "        time_taken = ((double)(end - start)) * 1E3 / CLOCKS_PER_SEC;\n",
        "        elapse = elapse + time_taken;\n",
        "    }\n",
        "    printf(\"Function (in C) average time for %lu loops is %f milliseconds to execute an array size %lu \\n\", loope, elapse / loope, ARRAY_SIZE);\n",
        "\n",
        "    size_t err_count = 0;\n",
        "    int32_t  test[NUM_BINS] = { 0 };\n",
        "\n",
        "    for (int i = 0; i < ARRAY_SIZE; i++) {\n",
        "        int bIndex = vector[i] % 10;\n",
        "        test[bIndex]++;\n",
        "    }\n",
        "    for (int i = 0; i < 10; i++) {\n",
        "\n",
        "        if (test[i] != histogram[i])\n",
        "            err_count++;\n",
        "    }\n",
        "    printf(\"Error count (C program): %lu\\n\", err_count);\n",
        "\n",
        "    for (int i = 0; i < NUM_BINS; i++) {\n",
        "        printf(\"Bin %d: %d\\n\", i, histogram[i]);\n",
        "    }\n",
        "\n",
        "    free(vector);\n",
        "\treturn 0;\n",
        "}"
      ]
    },
    {
      "cell_type": "code",
      "source": [
        "%%shell\n",
        "gcc C_histo.c -o C_histo"
      ],
      "metadata": {
        "id": "cPDW17QG7bCo",
        "outputId": "f81b1d6e-7265-4e46-b096-71a0422ed765",
        "colab": {
          "base_uri": "https://localhost:8080/"
        }
      },
      "execution_count": null,
      "outputs": [
        {
          "output_type": "execute_result",
          "data": {
            "text/plain": []
          },
          "metadata": {},
          "execution_count": 9
        }
      ]
    },
    {
      "cell_type": "code",
      "source": [
        "%%shell\n",
        "./C_histo"
      ],
      "metadata": {
        "id": "NOv8XVRl7nnJ",
        "outputId": "3ac9ce0f-b0e4-438d-f38b-64a8fc8d1d11",
        "colab": {
          "base_uri": "https://localhost:8080/"
        }
      },
      "execution_count": null,
      "outputs": [
        {
          "output_type": "stream",
          "name": "stdout",
          "text": [
            "Function (in C) average time for 100 loops is 77.835400 milliseconds to execute an array size 16777216 \n",
            "Error count (C program): 0\n",
            "Bin 0: 1677722\n",
            "Bin 1: 1677722\n",
            "Bin 2: 1677722\n",
            "Bin 3: 1677722\n",
            "Bin 4: 1677722\n",
            "Bin 5: 1677722\n",
            "Bin 6: 1677721\n",
            "Bin 7: 1677721\n",
            "Bin 8: 1677721\n",
            "Bin 9: 1677721\n"
          ]
        },
        {
          "output_type": "execute_result",
          "data": {
            "text/plain": []
          },
          "metadata": {},
          "execution_count": 10
        }
      ]
    },
    {
      "cell_type": "markdown",
      "source": [
        "# (2) CUDA program w/ Unified memory, pre-fetching and memadvise"
      ],
      "metadata": {
        "id": "Xen_Tj0D8ucN"
      }
    },
    {
      "cell_type": "code",
      "source": [
        "%%writefile cuda.cu\n",
        "#include <stdio.h>\n",
        "#include <stdlib.h>\n",
        "#include <cuda_runtime.h>\n",
        "#include <chrono>\n",
        "\n",
        "#define VECTOR_SIZE (1 << 24)\n",
        "#define NUM_BINS 10\n",
        "\n",
        "// CUDA kernel using atomic operations\n",
        "__global__ void histogramKernel(int *d_data, int *d_histogram, int size) {\n",
        "    int index = blockIdx.x * blockDim.x + threadIdx.x;\n",
        "    int stride = blockDim.x * gridDim.x;\n",
        "    for (int i = index; i < size; i += stride) {\n",
        "        int bin = d_data[i] % NUM_BINS;\n",
        "        atomicAdd(&d_histogram[bin], 1);\n",
        "    }\n",
        "}\n",
        "\n",
        "int main() {\n",
        "    const size_t ARRAY_SIZE = VECTOR_SIZE;\n",
        "    const size_t ARRAY_BYTES = ARRAY_SIZE * sizeof(int);\n",
        "    const size_t loope = 100;\n",
        "\n",
        "    // Declare array\n",
        "    int *data, *histogram;\n",
        "    cudaMallocManaged(&data, ARRAY_BYTES);\n",
        "    cudaMallocManaged(&histogram, NUM_BINS * sizeof(int));\n",
        "\n",
        "    // Get GPU device\n",
        "    int device = -1;\n",
        "    cudaGetDevice(&device);\n",
        "\n",
        "    // Memory advise\n",
        "    cudaMemAdvise(data, ARRAY_BYTES, cudaMemAdviseSetPreferredLocation, cudaCpuDeviceId);\n",
        "    cudaMemAdvise(data, ARRAY_BYTES, cudaMemAdviseSetReadMostly, cudaCpuDeviceId);\n",
        "\n",
        "    // Prefetch to create CPU page memory\n",
        "    cudaMemPrefetchAsync(data, ARRAY_BYTES, cudaCpuDeviceId, NULL);\n",
        "    cudaMemPrefetchAsync(histogram, NUM_BINS * sizeof(int), device, NULL);\n",
        "\n",
        "    // Initialize array\n",
        "    for (size_t i = 0; i < VECTOR_SIZE; i++) {\n",
        "        data[i] = i;\n",
        "    }\n",
        "\n",
        "    // Prefetch data from CPU to GPU\n",
        "    cudaMemPrefetchAsync(data, ARRAY_BYTES, device, NULL);\n",
        "\n",
        "    // Setup CUDA kernel\n",
        "    size_t numThreads = 1024;\n",
        "    size_t numBlocks = (VECTOR_SIZE + numThreads - 1) / numThreads;\n",
        "\n",
        "    printf(\"*** function = Histogram Counting\\n\");\n",
        "    printf(\"numElements = %lu\\n\", ARRAY_SIZE);\n",
        "    printf(\"numBlocks = %lu, numThreads = %lu \\n\", numBlocks, numThreads);\n",
        "\n",
        "    for (size_t i = 0; i < loope; i++) {\n",
        "        cudaMemset(histogram, 0, NUM_BINS * sizeof(int));\n",
        "        histogramKernel<<<numBlocks, numThreads>>>(data, histogram, VECTOR_SIZE);\n",
        "    }\n",
        "\n",
        "    // Synchronize device\n",
        "    cudaDeviceSynchronize();\n",
        "\n",
        "    // Prefetch result back to CPU\n",
        "    cudaMemPrefetchAsync(histogram, NUM_BINS * sizeof(int), cudaCpuDeviceId, NULL);\n",
        "\n",
        "    // Error checking\n",
        "    size_t err_count = 0;\n",
        "    int referenceHistogram[NUM_BINS] = {0};\n",
        "    for (size_t i = 0; i < VECTOR_SIZE; i++) {\n",
        "        int bin = data[i] % NUM_BINS;\n",
        "        referenceHistogram[bin]++;\n",
        "    }\n",
        "    for (int i = 0; i < NUM_BINS; i++) {\n",
        "        if (histogram[i] != referenceHistogram[i]) {\n",
        "            printf(\"Mismatch at bin %d: CUDA=%d, CPU=%d\\n\", i, histogram[i], referenceHistogram[i]);\n",
        "            err_count++;\n",
        "        }\n",
        "    }\n",
        "    printf(\"Error count (CUDA program): %zu\\n\", err_count);\n",
        "\n",
        "    // Print results\n",
        "    for (int i = 0; i < NUM_BINS; i++) {\n",
        "        printf(\"Bin %d: %d\\n\", i, histogram[i]);\n",
        "    }\n",
        "\n",
        "    // Free memory\n",
        "    cudaFree(data);\n",
        "    cudaFree(histogram);\n",
        "\n",
        "    return 0;\n",
        "}"
      ],
      "metadata": {
        "id": "ZLETBq-79A6c",
        "outputId": "b101a46f-be0e-40d0-e36d-34de580c504f",
        "colab": {
          "base_uri": "https://localhost:8080/"
        }
      },
      "execution_count": null,
      "outputs": [
        {
          "output_type": "stream",
          "name": "stdout",
          "text": [
            "Writing cuda.cu\n"
          ]
        }
      ]
    },
    {
      "cell_type": "code",
      "source": [
        "%%shell\n",
        "nvcc cuda.cu -o cuda"
      ],
      "metadata": {
        "id": "v6WVtd_UhU4N",
        "outputId": "197e007e-ceff-4b0c-a091-8e5254d18e00",
        "colab": {
          "base_uri": "https://localhost:8080/"
        }
      },
      "execution_count": null,
      "outputs": [
        {
          "output_type": "execute_result",
          "data": {
            "text/plain": []
          },
          "metadata": {},
          "execution_count": 3
        }
      ]
    },
    {
      "cell_type": "code",
      "source": [
        "%%shell\n",
        "./cuda"
      ],
      "metadata": {
        "id": "ve-0s_CzhZ35",
        "outputId": "965501a4-c113-45ad-aaeb-c4d71f191b60",
        "colab": {
          "base_uri": "https://localhost:8080/"
        }
      },
      "execution_count": null,
      "outputs": [
        {
          "output_type": "stream",
          "name": "stdout",
          "text": [
            "*** function = Histogram Counting\n",
            "numElements = 16777216\n",
            "numBlocks = 16384, numThreads = 1024 \n",
            "Error count (CUDA program): 0\n",
            "Bin 0: 1677722\n",
            "Bin 1: 1677722\n",
            "Bin 2: 1677722\n",
            "Bin 3: 1677722\n",
            "Bin 4: 1677722\n",
            "Bin 5: 1677722\n",
            "Bin 6: 1677721\n",
            "Bin 7: 1677721\n",
            "Bin 8: 1677721\n",
            "Bin 9: 1677721\n"
          ]
        },
        {
          "output_type": "execute_result",
          "data": {
            "text/plain": []
          },
          "metadata": {},
          "execution_count": 4
        }
      ]
    }
  ]
}